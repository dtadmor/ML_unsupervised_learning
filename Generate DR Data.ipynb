{
 "cells": [
  {
   "cell_type": "code",
   "execution_count": 1,
   "metadata": {},
   "outputs": [],
   "source": [
    "import os\n",
    "import time\n",
    "\n",
    "import matplotlib.pyplot as plt\n",
    "import numpy as np\n",
    "import pandas as pd\n",
    "from scipy.spatial import distance_matrix\n",
    "from scipy.stats import kurtosis\n",
    "from sklearn.cluster import KMeans\n",
    "from sklearn.decomposition import PCA, FastICA\n",
    "from sklearn.ensemble import RandomForestClassifier\n",
    "from sklearn.metrics import silhouette_score\n",
    "from sklearn.mixture import GaussianMixture\n",
    "from sklearn.model_selection import train_test_split, StratifiedKFold\n",
    "from sklearn.neural_network import MLPClassifier\n",
    "from sklearn.preprocessing import StandardScaler\n",
    "from sklearn.random_projection import GaussianRandomProjection"
   ]
  },
  {
   "cell_type": "markdown",
   "metadata": {},
   "source": [
    "#### census data"
   ]
  },
  {
   "cell_type": "code",
   "execution_count": 2,
   "metadata": {},
   "outputs": [],
   "source": [
    "census_path = '../Project 1/census/'"
   ]
  },
  {
   "cell_type": "code",
   "execution_count": 3,
   "metadata": {},
   "outputs": [],
   "source": [
    "with open(os.path.join(census_path, 'adult.names')) as f:\n",
    "    names = f.readlines()\n",
    "cols = [c for c in names if c[0] != '|']\n",
    "cols = [c.replace('\\n', '') for c in cols]\n",
    "cols = [c.split(':')[0] for c in cols]\n",
    "cols = [c for c in cols if c]\n",
    "cols = cols[1:] + [cols[0]]\n",
    "df_census = pd.read_csv(os.path.join(census_path, 'adult.data'), names=cols)"
   ]
  },
  {
   "cell_type": "code",
   "execution_count": 4,
   "metadata": {},
   "outputs": [],
   "source": [
    "X_census_cols = [\n",
    "    'age', 'workclass', 'fnlwgt', 'education', 'education-num', 'marital-status', 'occupation', 'relationship',\n",
    "    'race', 'sex', 'capital-gain', 'capital-loss', 'hours-per-week', 'native-country'\n",
    "]\n",
    "categorical_cols = [\n",
    "    'workclass', 'education', 'marital-status', 'occupation', 'relationship', 'race', 'sex', 'native-country'\n",
    "]\n",
    "X_census = pd.get_dummies(df_census[X_census_cols], columns=categorical_cols, drop_first=True)\n",
    "y_census = df_census['>50K, <=50K.'].map(lambda x: {'>50K': 1, '<=50K': 0}.get(x.strip()))"
   ]
  },
  {
   "cell_type": "code",
   "execution_count": 5,
   "metadata": {},
   "outputs": [],
   "source": [
    "X_census_train, X_census_test, y_census_train, y_census_test = train_test_split(\n",
    "    X_census, y_census, stratify=y_census, train_size=.8, shuffle=True, random_state=42\n",
    ")"
   ]
  },
  {
   "cell_type": "code",
   "execution_count": 6,
   "metadata": {},
   "outputs": [],
   "source": [
    "ss = StandardScaler()\n",
    "x_cols = X_census.columns\n",
    "X_census_train = ss.fit_transform(X_census_train)\n",
    "X_census_test = ss.transform(X_census_test)"
   ]
  },
  {
   "cell_type": "markdown",
   "metadata": {},
   "source": [
    "#### spam data"
   ]
  },
  {
   "cell_type": "code",
   "execution_count": 7,
   "metadata": {},
   "outputs": [],
   "source": [
    "spam_path = '../Project 1/spam/'"
   ]
  },
  {
   "cell_type": "code",
   "execution_count": 8,
   "metadata": {},
   "outputs": [],
   "source": [
    "with open(os.path.join(spam_path, 'spambase.names')) as f:\n",
    "    names = f.readlines()\n",
    "cols = [c for c in names if c[0] != '|']\n",
    "cols = [c.replace('\\n', '') for c in cols]\n",
    "cols = [c.split(':')[0] for c in cols]\n",
    "cols = [c for c in cols if c]\n",
    "spam_cols = cols[1:]"
   ]
  },
  {
   "cell_type": "code",
   "execution_count": 9,
   "metadata": {},
   "outputs": [],
   "source": [
    "df_spam = pd.read_csv(os.path.join(spam_path, 'spambase.data'), header=None)"
   ]
  },
  {
   "cell_type": "code",
   "execution_count": 10,
   "metadata": {},
   "outputs": [],
   "source": [
    "X_spam_cols = df_spam.columns[:-1]\n",
    "y_spam_col = df_spam.columns.difference(X_spam_cols)[0]\n",
    "X_spam = df_spam[X_spam_cols]\n",
    "y_spam = df_spam[y_spam_col]"
   ]
  },
  {
   "cell_type": "code",
   "execution_count": 11,
   "metadata": {},
   "outputs": [],
   "source": [
    "X_spam_train, X_spam_test, y_spam_train, y_spam_test = train_test_split(\n",
    "    X_spam, y_spam, stratify=y_spam, train_size=.8, shuffle=True, random_state=42\n",
    ")"
   ]
  },
  {
   "cell_type": "code",
   "execution_count": 12,
   "metadata": {},
   "outputs": [],
   "source": [
    "ss = StandardScaler()\n",
    "x_cols = X_spam.columns\n",
    "X_spam_train = ss.fit_transform(X_spam_train)\n",
    "X_spam_test = ss.transform(X_spam_test)"
   ]
  },
  {
   "cell_type": "markdown",
   "metadata": {},
   "source": [
    "#### visualize cluster"
   ]
  },
  {
   "cell_type": "code",
   "execution_count": 13,
   "metadata": {},
   "outputs": [],
   "source": [
    "def viz_clusters(X, clusters, i=0, j=1):\n",
    "    pca = PCA()\n",
    "    x = pca.fit_transform(X)\n",
    "    x1 = x[:, i]\n",
    "    x2 = x[:, j]\n",
    "    fig, ax = plt.subplots(figsize=(16,9))\n",
    "    plot = ax.scatter(x1, x2, c=clusters, alpha=.2)\n",
    "    var1 = round(pca.explained_variance_ratio_[i], 2)\n",
    "    var2 = round(pca.explained_variance_ratio_[j], 2)\n",
    "    ax.set_xlabel(f'PCA Component {i} - Percent Explained Variance {var1}')\n",
    "    ax.set_ylabel(f'PCA Component {j} - Percent Explained Variance {var2}')\n",
    "    leg = ax.legend(*plot.legend_elements())\n",
    "    for lh in leg.legendHandles:\n",
    "        lh._legmarker.set_alpha(1)"
   ]
  },
  {
   "cell_type": "code",
   "execution_count": 14,
   "metadata": {},
   "outputs": [],
   "source": [
    "def elbow_plot(scores, metric, figsize=(5,3)):\n",
    "    scores = pd.Series(scores)\n",
    "    fig, ax = plt.subplots(figsize=figsize)\n",
    "    ax.plot(scores.index, scores.values)\n",
    "    ax.set_title('Elbow Plot')\n",
    "    ax.set_ylabel(metric.title())\n",
    "    ax.set_xlabel('K')"
   ]
  },
  {
   "cell_type": "code",
   "execution_count": 15,
   "metadata": {},
   "outputs": [],
   "source": [
    "def calc_silhouette(d, c, alg):\n",
    "    if alg == 'soft':\n",
    "        n, m = c.shape\n",
    "        scores = np.zeros(c.shape)\n",
    "        for i in range(m):\n",
    "            a = (d * c[:, i]).sum(axis=1) / np.dot(1-np.eye(n), c[:,i])\n",
    "            b = np.zeros((n, m-1))\n",
    "            for j in range(m):\n",
    "                if i == j:\n",
    "                    continue\n",
    "                idx = j - (1 * (j > i))\n",
    "                b[:, idx] = (d * c[:, j]).sum(axis=1) / np.dot(1-np.eye(n), c[:,j])\n",
    "            b = b.min(axis=1)\n",
    "            scores[:, i] = (b - a)/np.array([a, b]).max(axis=0)\n",
    "        score = (scores * c).sum() / c.sum()\n",
    "    elif alg == 'hard':\n",
    "        if len(c.shape) > 1:\n",
    "            if c.shape[1] > 1:\n",
    "                c = c.argmax(axis=1)\n",
    "            elif c.shape[1] == 1:\n",
    "                c = c.reshape(-1)\n",
    "        score = silhouette_score(d, c, metric='precomputed')\n",
    "    return score"
   ]
  },
  {
   "cell_type": "markdown",
   "metadata": {},
   "source": [
    "#### prep results"
   ]
  },
  {
   "cell_type": "code",
   "execution_count": 16,
   "metadata": {},
   "outputs": [],
   "source": [
    "results = pd.DataFrame(index=range(4), columns=['method', 'k', 'reconstruction_error', 'avg_data_dist_error'])\n",
    "choose_k_results = {}\n",
    "idx = -1"
   ]
  },
  {
   "cell_type": "markdown",
   "metadata": {},
   "source": [
    "#### PCA - census"
   ]
  },
  {
   "cell_type": "code",
   "execution_count": 17,
   "metadata": {},
   "outputs": [],
   "source": [
    "X = X_census_train.copy()\n",
    "y = y_census_train.copy()\n",
    "X_val = X_census_test.copy()\n",
    "cols = X_census.columns\n",
    "model = PCA\n",
    "idx += 1\n",
    "method = 'pca'"
   ]
  },
  {
   "cell_type": "code",
   "execution_count": 18,
   "metadata": {},
   "outputs": [],
   "source": [
    "results.loc[idx, 'method'] = method"
   ]
  },
  {
   "cell_type": "code",
   "execution_count": 19,
   "metadata": {},
   "outputs": [],
   "source": [
    "# generate data\n",
    "model_orig = model(random_state=4200)\n",
    "X_pca = model_orig.fit_transform(X)"
   ]
  },
  {
   "cell_type": "code",
   "execution_count": 20,
   "metadata": {},
   "outputs": [
    {
     "data": {
      "image/png": "[encoded data removed]",
      "text/plain": [
       "<Figure size 360x216 with 1 Axes>"
      ]
     },
     "metadata": {
      "needs_background": "light"
     },
     "output_type": "display_data"
    }
   ],
   "source": [
    "# choose k - explained variance\n",
    "scores = {k: v for k, v in enumerate(model_orig.explained_variance_ratio_)}\n",
    "choose_k_results['census_' + method] = scores\n",
    "elbow_plot(scores, 'Explained Variance')"
   ]
  },
  {
   "cell_type": "code",
   "execution_count": 21,
   "metadata": {},
   "outputs": [
    {
     "data": {
      "image/png": "[encoded data removed]",
      "text/plain": [
       "<Figure size 360x216 with 1 Axes>"
      ]
     },
     "metadata": {
      "needs_background": "light"
     },
     "output_type": "display_data"
    }
   ],
   "source": [
    "# choose k - cumulative explained variance\n",
    "scores = {k: v for k, v in enumerate(model_orig.explained_variance_ratio_.cumsum())}\n",
    "elbow_plot(scores, 'Explained Variance')"
   ]
  },
  {
   "cell_type": "code",
   "execution_count": 22,
   "metadata": {},
   "outputs": [],
   "source": [
    "# choose k\n",
    "k = 15\n",
    "alt_k = 78\n",
    "results.loc[idx, 'k'] = k"
   ]
  },
  {
   "cell_type": "code",
   "execution_count": 23,
   "metadata": {},
   "outputs": [
    {
     "data": {
      "text/plain": [
       "(6.531725987902857, 1390.6027890757932)"
      ]
     },
     "execution_count": 23,
     "metadata": {},
     "output_type": "execute_result"
    }
   ],
   "source": [
    "# evaluate - reconstruction error\n",
    "model_lim = model(k, random_state=4200)\n",
    "X_lim_pca = model_lim.fit_transform(X)\n",
    "X_lim = model_lim.inverse_transform(X_lim_pca)\n",
    "diff = X_lim - X\n",
    "avg_data_error = ((diff ** 2).sum(axis=1) ** .5).mean()\n",
    "reconstruction_error = (diff ** 2).sum() ** .5\n",
    "results.loc[idx, 'avg_data_dist_error'] = avg_data_error\n",
    "results.loc[idx, 'reconstruction_error'] = reconstruction_error\n",
    "avg_data_error, reconstruction_error"
   ]
  },
  {
   "cell_type": "code",
   "execution_count": 24,
   "metadata": {},
   "outputs": [
    {
     "data": {
      "text/plain": [
       "(2.778806039386952, 502.90912186717816)"
      ]
     },
     "execution_count": 24,
     "metadata": {},
     "output_type": "execute_result"
    }
   ],
   "source": [
    "model_alt_lim = model(alt_k, random_state=4200)\n",
    "X_alt_lim_pca = model_alt_lim.fit_transform(X)\n",
    "X_alt_lim = model_alt_lim.inverse_transform(X_alt_lim_pca)\n",
    "alt_diff = X_alt_lim - X\n",
    "avg_data_error = ((alt_diff ** 2).sum(axis=1) ** .5).mean()\n",
    "reconstruction_error = (alt_diff ** 2).sum() ** .5\n",
    "avg_data_error, reconstruction_error"
   ]
  },
  {
   "cell_type": "code",
   "execution_count": 25,
   "metadata": {},
   "outputs": [
    {
     "data": {
      "text/plain": [
       "education_ HS-grad               2.059485\n",
       "sex_ Male                        1.837855\n",
       "education_ Bachelors             1.824594\n",
       "race_ Black                      1.802843\n",
       "native-country_ Mexico           1.777935\n",
       "relationship_ Own-child          1.765977\n",
       "relationship_ Not-in-family      1.764173\n",
       "native-country_ United-States    1.753283\n",
       "workclass_ Local-gov             1.748639\n",
       "relationship_ Wife               1.748296\n",
       "dtype: float64"
      ]
     },
     "execution_count": 25,
     "metadata": {},
     "output_type": "execute_result"
    }
   ],
   "source": [
    "# evaluate - high weighted cols\n",
    "pd.Series(abs(model_lim.components_).sum(axis=0), index=cols).sort_values(ascending=False).head(10)"
   ]
  },
  {
   "cell_type": "code",
   "execution_count": 26,
   "metadata": {},
   "outputs": [
    {
     "data": {
      "text/plain": [
       "native-country_ Ireland       0.480162\n",
       "native-country_ France        0.479415\n",
       "native-country_ Honduras      0.473249\n",
       "native-country_ Hong          0.471785\n",
       "native-country_ Iran          0.462805\n",
       "native-country_ Thailand      0.441684\n",
       "workclass_ Without-pay        0.413858\n",
       "workclass_ Never-worked       0.394487\n",
       "native-country_ Yugoslavia    0.371739\n",
       "native-country_ Hungary       0.317342\n",
       "dtype: float64"
      ]
     },
     "execution_count": 26,
     "metadata": {},
     "output_type": "execute_result"
    }
   ],
   "source": [
    "# evaluate - low weighted cols\n",
    "pd.Series(abs(model_lim.components_).sum(axis=0), index=cols).sort_values(ascending=False).tail(10)"
   ]
  },
  {
   "cell_type": "code",
   "execution_count": 27,
   "metadata": {},
   "outputs": [
    {
     "data": {
      "text/plain": [
       "workclass_ Private                    3.542388\n",
       "race_ Black                           3.345420\n",
       "education-num                         3.322374\n",
       "marital-status_ Never-married         3.115515\n",
       "age                                   3.097136\n",
       "sex_ Male                             2.944743\n",
       "marital-status_ Married-civ-spouse    2.813743\n",
       "race_ White                           2.643437\n",
       "native-country_ United-States         2.345815\n",
       "race_ Asian-Pac-Islander              2.056042\n",
       "dtype: float64"
      ]
     },
     "execution_count": 27,
     "metadata": {},
     "output_type": "execute_result"
    }
   ],
   "source": [
    "# evaluate - low difference in weighted cols\n",
    "(\n",
    "    pd.Series(abs(model_lim.components_).sum(axis=0), index=cols) -\n",
    "    pd.Series(abs(model_orig.components_).sum(axis=0), index=cols)\n",
    ").abs().sort_values(ascending=False).tail(10)"
   ]
  },
  {
   "cell_type": "code",
   "execution_count": 28,
   "metadata": {},
   "outputs": [
    {
     "data": {
      "text/plain": [
       "native-country_ El-Salvador    6.763969\n",
       "native-country_ Poland         6.719889\n",
       "native-country_ Nicaragua      6.669161\n",
       "native-country_ Ecuador        6.652708\n",
       "native-country_ Hong           6.587500\n",
       "native-country_ Jamaica        6.577056\n",
       "native-country_ Laos           6.574549\n",
       "native-country_ Italy          6.543509\n",
       "native-country_ Puerto-Rico    6.536012\n",
       "native-country_ Greece         6.528782\n",
       "dtype: float64"
      ]
     },
     "execution_count": 28,
     "metadata": {},
     "output_type": "execute_result"
    }
   ],
   "source": [
    "# evaluate - high difference in weighted cols\n",
    "(\n",
    "    pd.Series(abs(model_lim.components_).sum(axis=0), index=cols) -\n",
    "    pd.Series(abs(model_orig.components_).sum(axis=0), index=cols)\n",
    ").abs().sort_values(ascending=False).head(10)"
   ]
  },
  {
   "cell_type": "code",
   "execution_count": 29,
   "metadata": {},
   "outputs": [
    {
     "data": {
      "text/plain": [
       "native-country_ Hungary       25674.630488\n",
       "native-country_ Yugoslavia    25455.908101\n",
       "workclass_ Never-worked       25392.579194\n",
       "workclass_ Without-pay        25330.940374\n",
       "native-country_ Iran          25207.271647\n",
       "native-country_ Poland        25173.990371\n",
       "native-country_ Thailand      25138.149852\n",
       "native-country_ Ireland       25125.914693\n",
       "native-country_ Honduras      25053.577011\n",
       "native-country_ Hong          25032.099484\n",
       "dtype: float64"
      ]
     },
     "execution_count": 29,
     "metadata": {},
     "output_type": "execute_result"
    }
   ],
   "source": [
    "# evaluate - high squared difference in reconstruction by col\n",
    "pd.Series((diff ** 2).sum(axis=0), index=cols).abs().sort_values(ascending=False).head(10)"
   ]
  },
  {
   "cell_type": "code",
   "execution_count": 30,
   "metadata": {},
   "outputs": [
    {
     "data": {
      "text/plain": [
       "sex_ Male                             7934.184367\n",
       "education_ HS-grad                    7518.322161\n",
       "marital-status_ Never-married         6412.009320\n",
       "race_ Black                           6021.419001\n",
       "race_ Asian-Pac-Islander              5329.854898\n",
       "workclass_ Private                    4869.256523\n",
       "native-country_ United-States         4187.597785\n",
       "education-num                         3628.086393\n",
       "race_ White                           3169.693935\n",
       "marital-status_ Married-civ-spouse    2785.060109\n",
       "dtype: float64"
      ]
     },
     "execution_count": 30,
     "metadata": {},
     "output_type": "execute_result"
    }
   ],
   "source": [
    "# evaluate - low squared difference in reconstruction by col\n",
    "pd.Series((diff ** 2).sum(axis=0), index=cols).abs().sort_values(ascending=False).tail(10)"
   ]
  },
  {
   "cell_type": "markdown",
   "metadata": {},
   "source": [
    "#### ICA - census"
   ]
  },
  {
   "cell_type": "code",
   "execution_count": 31,
   "metadata": {},
   "outputs": [],
   "source": [
    "X = X_census_train.copy()\n",
    "y = y_census_train.copy()\n",
    "X_val = X_census_test.copy()\n",
    "cols = X_census.columns\n",
    "model = FastICA\n",
    "idx += 1\n",
    "method = 'ica'"
   ]
  },
  {
   "cell_type": "code",
   "execution_count": 32,
   "metadata": {},
   "outputs": [],
   "source": [
    "results.loc[idx, 'method'] = method"
   ]
  },
  {
   "cell_type": "code",
   "execution_count": 33,
   "metadata": {},
   "outputs": [
    {
     "name": "stderr",
     "output_type": "stream",
     "text": [
      "/Users/dan/anaconda3/lib/python3.8/site-packages/sklearn/decomposition/_fastica.py:118: ConvergenceWarning: FastICA did not converge. Consider increasing tolerance or the maximum number of iterations.\n",
      "  warnings.warn('FastICA did not converge. Consider increasing '\n"
     ]
    }
   ],
   "source": [
    "# generate data\n",
    "model_orig = model(max_iter=50000, random_state=4200)\n",
    "X_ica = model_orig.fit_transform(X)"
   ]
  },
  {
   "cell_type": "code",
   "execution_count": 34,
   "metadata": {},
   "outputs": [
    {
     "name": "stderr",
     "output_type": "stream",
     "text": [
      "/Users/dan/anaconda3/lib/python3.8/site-packages/sklearn/decomposition/_fastica.py:118: ConvergenceWarning: FastICA did not converge. Consider increasing tolerance or the maximum number of iterations.\n",
      "  warnings.warn('FastICA did not converge. Consider increasing '\n",
      "/Users/dan/anaconda3/lib/python3.8/site-packages/sklearn/decomposition/_fastica.py:118: ConvergenceWarning: FastICA did not converge. Consider increasing tolerance or the maximum number of iterations.\n",
      "  warnings.warn('FastICA did not converge. Consider increasing '\n"
     ]
    },
    {
     "data": {
      "image/png": "[encoded data removed]",
      "text/plain": [
       "<Figure size 360x216 with 1 Axes>"
      ]
     },
     "metadata": {
      "needs_background": "light"
     },
     "output_type": "display_data"
    }
   ],
   "source": [
    "# choose k - kurtosis\n",
    "scores = {}\n",
    "for k in range(1, X.shape[1]+1):\n",
    "    model_lim = model(k, max_iter=1000, random_state=4200)\n",
    "    X_lim_ica = model_lim.fit_transform(X)\n",
    "    scores[k] = abs(kurtosis(X_lim_ica)).mean()\n",
    "choose_k_results['census_' + method] = scores\n",
    "elbow_plot(scores, 'Kurtosis')"
   ]
  },
  {
   "cell_type": "code",
   "execution_count": 35,
   "metadata": {},
   "outputs": [],
   "source": [
    "# choose k\n",
    "k = 12\n",
    "alt_k = 3\n",
    "results.loc[idx, 'k'] = k"
   ]
  },
  {
   "cell_type": "code",
   "execution_count": 36,
   "metadata": {},
   "outputs": [
    {
     "data": {
      "text/plain": [
       "(6.645106114108541, 1417.7458654383272)"
      ]
     },
     "execution_count": 36,
     "metadata": {},
     "output_type": "execute_result"
    }
   ],
   "source": [
    "# evaluate - reconstruction error\n",
    "model_lim = model(k, random_state=4200)\n",
    "X_lim_ica = model_lim.fit_transform(X)\n",
    "X_lim = model_lim.inverse_transform(X_lim_ica)\n",
    "diff = X_lim - X\n",
    "avg_data_error = ((diff ** 2).sum(axis=1) ** .5).mean()\n",
    "reconstruction_error = (diff ** 2).sum() ** .5\n",
    "results.loc[idx, 'avg_data_dist_error'] = avg_data_error\n",
    "results.loc[idx, 'reconstruction_error'] = reconstruction_error\n",
    "avg_data_error, reconstruction_error"
   ]
  },
  {
   "cell_type": "code",
   "execution_count": 37,
   "metadata": {},
   "outputs": [
    {
     "data": {
      "text/plain": [
       "(7.6621028213986655, 1541.5188282015595)"
      ]
     },
     "execution_count": 37,
     "metadata": {},
     "output_type": "execute_result"
    }
   ],
   "source": [
    "model_alt_lim = model(alt_k, random_state=4200)\n",
    "X_alt_lim_ica = model_alt_lim.fit_transform(X)\n",
    "X_alt_lim = model_alt_lim.inverse_transform(X_alt_lim_ica)\n",
    "alt_diff = X_alt_lim - X\n",
    "avg_data_error = ((alt_diff ** 2).sum(axis=1) ** .5).mean()\n",
    "reconstruction_error = (alt_diff ** 2).sum() ** .5\n",
    "avg_data_error, reconstruction_error"
   ]
  },
  {
   "cell_type": "code",
   "execution_count": 127,
   "metadata": {},
   "outputs": [
    {
     "data": {
      "text/plain": [
       "1613.9392801465883"
      ]
     },
     "execution_count": 127,
     "metadata": {},
     "output_type": "execute_result"
    }
   ],
   "source": [
    "np.linalg.norm(X)"
   ]
  },
  {
   "cell_type": "code",
   "execution_count": 39,
   "metadata": {},
   "outputs": [
    {
     "data": {
      "text/plain": [
       "education_ HS-grad             0.008403\n",
       "relationship_ Not-in-family    0.007640\n",
       "education_ Some-college        0.006763\n",
       "occupation_ Adm-clerical       0.006630\n",
       "workclass_ Private             0.006612\n",
       "occupation_ Craft-repair       0.006376\n",
       "education-num                  0.005973\n",
       "occupation_ Exec-managerial    0.005931\n",
       "relationship_ Unmarried        0.005846\n",
       "relationship_ Own-child        0.005784\n",
       "dtype: float64"
      ]
     },
     "execution_count": 39,
     "metadata": {},
     "output_type": "execute_result"
    }
   ],
   "source": [
    "# evaluate - high weighted cols\n",
    "pd.Series(abs(model_lim.components_).sum(axis=0), index=cols).sort_values(ascending=False).head(10)"
   ]
  },
  {
   "cell_type": "code",
   "execution_count": 40,
   "metadata": {},
   "outputs": [
    {
     "data": {
      "text/plain": [
       "native-country_ Honduras                      0.000954\n",
       "native-country_ Greece                        0.000939\n",
       "native-country_ Yugoslavia                    0.000899\n",
       "native-country_ Hungary                       0.000879\n",
       "native-country_ Peru                          0.000855\n",
       "native-country_ Portugal                      0.000841\n",
       "native-country_ Outlying-US(Guam-USVI-etc)    0.000706\n",
       "workclass_ Never-worked                       0.000681\n",
       "native-country_ Scotland                      0.000554\n",
       "native-country_ Holand-Netherlands            0.000257\n",
       "dtype: float64"
      ]
     },
     "execution_count": 40,
     "metadata": {},
     "output_type": "execute_result"
    }
   ],
   "source": [
    "# evaluate - low weighted cols\n",
    "pd.Series(abs(model_lim.components_).sum(axis=0), index=cols).sort_values(ascending=False).tail(10)"
   ]
  },
  {
   "cell_type": "code",
   "execution_count": 41,
   "metadata": {},
   "outputs": [
    {
     "data": {
      "text/plain": [
       "native-country_ Nicaragua     0.012728\n",
       "native-country_ Thailand      0.012273\n",
       "native-country_ Jamaica       0.011740\n",
       "native-country_ Peru          0.011150\n",
       "native-country_ Ireland       0.010444\n",
       "native-country_ Yugoslavia    0.010161\n",
       "native-country_ Canada        0.009721\n",
       "native-country_ Haiti         0.009094\n",
       "native-country_ Scotland      0.008674\n",
       "hours-per-week                0.008445\n",
       "dtype: float64"
      ]
     },
     "execution_count": 41,
     "metadata": {},
     "output_type": "execute_result"
    }
   ],
   "source": [
    "# evaluate - low difference in weighted cols\n",
    "(\n",
    "    pd.Series(abs(model_lim.components_).sum(axis=0), index=cols) -\n",
    "    pd.Series(abs(model_orig.components_).sum(axis=0), index=cols)\n",
    ").abs().sort_values(ascending=False).tail(10)"
   ]
  },
  {
   "cell_type": "code",
   "execution_count": 42,
   "metadata": {},
   "outputs": [
    {
     "data": {
      "text/plain": [
       "education_ Bachelors          3.472957e+13\n",
       "education-num                 3.465378e+13\n",
       "education_ Masters            2.424398e+13\n",
       "education_ Some-college       2.234707e+13\n",
       "workclass_ Private            1.925068e+13\n",
       "education_ HS-grad            1.880094e+13\n",
       "education_ Prof-school        1.593652e+13\n",
       "education_ Doctorate          1.498145e+13\n",
       "education_ Assoc-acdm         1.451079e+13\n",
       "occupation_ Prof-specialty    1.394517e+13\n",
       "dtype: float64"
      ]
     },
     "execution_count": 42,
     "metadata": {},
     "output_type": "execute_result"
    }
   ],
   "source": [
    "# evaluate - high difference in weighted cols\n",
    "(\n",
    "    pd.Series(abs(model_lim.components_).sum(axis=0), index=cols) -\n",
    "    pd.Series(abs(model_orig.components_).sum(axis=0), index=cols)\n",
    ").abs().sort_values(ascending=False).head(10)"
   ]
  },
  {
   "cell_type": "code",
   "execution_count": 43,
   "metadata": {},
   "outputs": [
    {
     "data": {
      "text/plain": [
       "native-country_ Holand-Netherlands            26032.524144\n",
       "native-country_ Scotland                      25941.193427\n",
       "native-country_ Outlying-US(Guam-USVI-etc)    25933.785654\n",
       "workclass_ Never-worked                       25911.811568\n",
       "native-country_ Hungary                       25897.693222\n",
       "native-country_ Yugoslavia                    25889.428972\n",
       "native-country_ Honduras                      25869.272234\n",
       "native-country_ Peru                          25845.333310\n",
       "native-country_ Greece                        25842.593927\n",
       "native-country_ Portugal                      25757.968603\n",
       "dtype: float64"
      ]
     },
     "execution_count": 43,
     "metadata": {},
     "output_type": "execute_result"
    }
   ],
   "source": [
    "# evaluate - high squared difference in reconstruction by col\n",
    "pd.Series((diff ** 2).sum(axis=0), index=cols).abs().sort_values(ascending=False).head(10)"
   ]
  },
  {
   "cell_type": "code",
   "execution_count": 44,
   "metadata": {},
   "outputs": [
    {
     "data": {
      "text/plain": [
       "sex_ Male                             7533.284659\n",
       "marital-status_ Never-married         5692.790639\n",
       "education_ HS-grad                    5559.400609\n",
       "native-country_ United-States         5122.067357\n",
       "race_ Black                           5004.597339\n",
       "workclass_ Private                    4328.709239\n",
       "race_ Asian-Pac-Islander              4001.558605\n",
       "education-num                         3470.753615\n",
       "race_ White                           2826.535301\n",
       "marital-status_ Married-civ-spouse    2784.870635\n",
       "dtype: float64"
      ]
     },
     "execution_count": 44,
     "metadata": {},
     "output_type": "execute_result"
    }
   ],
   "source": [
    "# evaluate - low squared difference in reconstruction by col\n",
    "pd.Series((diff ** 2).sum(axis=0), index=cols).abs().sort_values(ascending=False).tail(10)"
   ]
  },
  {
   "cell_type": "markdown",
   "metadata": {},
   "source": [
    "#### random projections - census"
   ]
  },
  {
   "cell_type": "code",
   "execution_count": 45,
   "metadata": {},
   "outputs": [],
   "source": [
    "X = X_census_train.copy()\n",
    "y = y_census_train.copy()\n",
    "X_val = X_census_test.copy()\n",
    "cols = X_census.columns\n",
    "model = GaussianRandomProjection\n",
    "idx += 1\n",
    "method = 'random projections'"
   ]
  },
  {
   "cell_type": "code",
   "execution_count": 46,
   "metadata": {},
   "outputs": [],
   "source": [
    "results.loc[idx, 'method'] = method"
   ]
  },
  {
   "cell_type": "code",
   "execution_count": 47,
   "metadata": {
    "scrolled": true
   },
   "outputs": [],
   "source": [
    "# generate data\n",
    "model_orig = model(X.shape[1], random_state=4200)\n",
    "X_rp = model_orig.fit_transform(X)"
   ]
  },
  {
   "cell_type": "code",
   "execution_count": 48,
   "metadata": {},
   "outputs": [
    {
     "data": {
      "image/png": "[encoded data removed]",
      "text/plain": [
       "<Figure size 360x216 with 1 Axes>"
      ]
     },
     "metadata": {
      "needs_background": "light"
     },
     "output_type": "display_data"
    }
   ],
   "source": [
    "# choose k - reconstruction error\n",
    "scores = {}\n",
    "for k in range(1, X.shape[1]+1):\n",
    "    W = model_orig.components_[:k].T\n",
    "    X_rp_k = X.dot(W)\n",
    "    W_inv = np.linalg.inv(W.T.dot(W)).dot(W.T)\n",
    "    X_lim = X_rp_k.dot(W_inv)\n",
    "    error = ((X_lim - X) ** 2).sum() ** .5\n",
    "    scores[k] = error\n",
    "choose_k_results['census_' + method] = scores\n",
    "elbow_plot(scores, 'Reconstruction Error')"
   ]
  },
  {
   "cell_type": "code",
   "execution_count": 49,
   "metadata": {},
   "outputs": [],
   "source": [
    "# choose k\n",
    "k = 20\n",
    "alt_k = 40\n",
    "results.loc[idx, 'k'] = k"
   ]
  },
  {
   "cell_type": "code",
   "execution_count": 50,
   "metadata": {},
   "outputs": [
    {
     "data": {
      "text/plain": [
       "(7.328976954277045, 1442.0755015143989)"
      ]
     },
     "execution_count": 50,
     "metadata": {},
     "output_type": "execute_result"
    }
   ],
   "source": [
    "# evaluate - reconstruction error\n",
    "model_lim = model(k, random_state=4200)\n",
    "X_lim_rp = model_lim.fit_transform(X)\n",
    "W_lim = model_lim.components_.T\n",
    "W_lim_inv = np.linalg.inv(W_lim.T.dot(W_lim)).dot(W_lim.T)\n",
    "X_lim = X_lim_rp.dot(W_lim_inv)\n",
    "diff = X_lim - X\n",
    "avg_data_error = ((diff ** 2).sum(axis=1) ** .5).mean()\n",
    "reconstruction_error = (diff ** 2).sum() ** .5\n",
    "results.loc[idx, 'avg_data_dist_error'] = avg_data_error\n",
    "results.loc[idx, 'reconstruction_error'] = reconstruction_error\n",
    "avg_data_error, reconstruction_error"
   ]
  },
  {
   "cell_type": "code",
   "execution_count": 51,
   "metadata": {},
   "outputs": [
    {
     "data": {
      "text/plain": [
       "(6.316183752685182, 1244.8345168576016)"
      ]
     },
     "execution_count": 51,
     "metadata": {},
     "output_type": "execute_result"
    }
   ],
   "source": [
    "model_alt_lim = model(alt_k, random_state=4200)\n",
    "X_alt_lim_rp = model_alt_lim.fit_transform(X)\n",
    "W_alt_lim = model_alt_lim.components_.T\n",
    "W_alt_lim_inv = np.linalg.inv(W_alt_lim.T.dot(W_alt_lim)).dot(W_alt_lim.T)\n",
    "X_alt_lim = X_alt_lim_rp.dot(W_alt_lim_inv)\n",
    "alt_diff = X_alt_lim - X\n",
    "avg_data_error = ((alt_diff ** 2).sum(axis=1) ** .5).mean()\n",
    "reconstruction_error = (alt_diff ** 2).sum() ** .5\n",
    "avg_data_error, reconstruction_error"
   ]
  },
  {
   "cell_type": "code",
   "execution_count": 52,
   "metadata": {},
   "outputs": [
    {
     "data": {
      "text/plain": [
       "(1443.48, 2.57)"
      ]
     },
     "execution_count": 52,
     "metadata": {},
     "output_type": "execute_result"
    }
   ],
   "source": [
    "# evaluate - model consistency\n",
    "errors = []\n",
    "for s in range(42, 42*10):\n",
    "    model_s = model(k, random_state=s)\n",
    "    X_s_rp = model_s.fit_transform(X)\n",
    "    W_s = model_s.components_.T\n",
    "    W_s_inv = np.linalg.inv(W_s.T.dot(W_s)).dot(W_s.T)\n",
    "    X_s = X_s_rp.dot(W_s_inv)\n",
    "    diff = X_s - X\n",
    "    reconstruction_error = (diff ** 2).sum() ** .5\n",
    "    errors.append(reconstruction_error)\n",
    "errors = np.array(errors)\n",
    "round(errors.mean(), 2), round(errors.std(), 2)"
   ]
  },
  {
   "cell_type": "code",
   "execution_count": 53,
   "metadata": {},
   "outputs": [
    {
     "data": {
      "text/plain": [
       "native-country_ Trinadad&Tobago      5.547971\n",
       "relationship_ Other-relative         4.976281\n",
       "relationship_ Not-in-family          4.790421\n",
       "native-country_ China                4.699748\n",
       "sex_ Male                            4.599100\n",
       "native-country_ India                4.589793\n",
       "native-country_ Hungary              4.546299\n",
       "education_ 12th                      4.411947\n",
       "native-country_ Scotland             4.400377\n",
       "marital-status_ Married-AF-spouse    4.355054\n",
       "dtype: float64"
      ]
     },
     "execution_count": 53,
     "metadata": {},
     "output_type": "execute_result"
    }
   ],
   "source": [
    "# evaluate - high weighted cols\n",
    "pd.Series(abs(model_lim.components_).sum(axis=0), index=cols).sort_values(ascending=False).head(10)"
   ]
  },
  {
   "cell_type": "code",
   "execution_count": 54,
   "metadata": {},
   "outputs": [
    {
     "data": {
      "text/plain": [
       "native-country_ United-States    2.671915\n",
       "race_ White                      2.609027\n",
       "occupation_ Machine-op-inspct    2.558962\n",
       "native-country_ Columbia         2.476480\n",
       "education_ Bachelors             2.444490\n",
       "native-country_ Iran             2.433819\n",
       "native-country_ England          2.333920\n",
       "native-country_ Hong             2.199784\n",
       "native-country_ Laos             2.198907\n",
       "workclass_ State-gov             1.959497\n",
       "dtype: float64"
      ]
     },
     "execution_count": 54,
     "metadata": {},
     "output_type": "execute_result"
    }
   ],
   "source": [
    "# evaluate - low weighted cols\n",
    "pd.Series(abs(model_lim.components_).sum(axis=0), index=cols).sort_values(ascending=False).tail(10)"
   ]
  },
  {
   "cell_type": "code",
   "execution_count": 55,
   "metadata": {},
   "outputs": [
    {
     "data": {
      "text/plain": [
       "native-country_ Guatemala          3.615401\n",
       "native-country_ Taiwan             3.561515\n",
       "native-country_ Honduras           3.533640\n",
       "native-country_ South              3.504007\n",
       "native-country_ Puerto-Rico        3.497281\n",
       "marital-status_ Separated          3.410872\n",
       "native-country_ Trinadad&Tobago    3.403579\n",
       "native-country_ China              3.396653\n",
       "native-country_ Hungary            3.387882\n",
       "native-country_ Italy              3.029204\n",
       "dtype: float64"
      ]
     },
     "execution_count": 55,
     "metadata": {},
     "output_type": "execute_result"
    }
   ],
   "source": [
    "# evaluate - low difference in weighted cols\n",
    "(\n",
    "    pd.Series(abs(model_lim.components_).sum(axis=0), index=cols) -\n",
    "    pd.Series(abs(model_orig.components_).sum(axis=0), index=cols)\n",
    ").abs().sort_values(ascending=False).tail(10)"
   ]
  },
  {
   "cell_type": "code",
   "execution_count": 56,
   "metadata": {},
   "outputs": [
    {
     "data": {
      "text/plain": [
       "native-country_ Hong           6.204376\n",
       "native-country_ Portugal       5.790005\n",
       "race_ White                    5.758544\n",
       "native-country_ El-Salvador    5.728236\n",
       "occupation_ Adm-clerical       5.574985\n",
       "native-country_ England        5.534859\n",
       "education_ 7th-8th             5.516096\n",
       "occupation_ Craft-repair       5.429049\n",
       "race_ Asian-Pac-Islander       5.311615\n",
       "hours-per-week                 5.223578\n",
       "dtype: float64"
      ]
     },
     "execution_count": 56,
     "metadata": {},
     "output_type": "execute_result"
    }
   ],
   "source": [
    "# evaluate - high difference in weighted cols\n",
    "(\n",
    "    pd.Series(abs(model_lim.components_).sum(axis=0), index=cols) -\n",
    "    pd.Series(abs(model_orig.components_).sum(axis=0), index=cols)\n",
    ").abs().sort_values(ascending=False).head(10)"
   ]
  },
  {
   "cell_type": "code",
   "execution_count": 57,
   "metadata": {},
   "outputs": [
    {
     "data": {
      "text/plain": [
       "race_ Asian-Pac-Islander       24322.638163\n",
       "native-country_ India          23912.498786\n",
       "sex_ Male                      23632.296984\n",
       "workclass_ Self-emp-not-inc    23605.839239\n",
       "marital-status_ Separated      23528.344874\n",
       "native-country_ China          23391.703450\n",
       "race_ Other                    23346.572060\n",
       "education_ 7th-8th             23283.407901\n",
       "workclass_ Without-pay         23195.619609\n",
       "hours-per-week                 22891.253767\n",
       "dtype: float64"
      ]
     },
     "execution_count": 57,
     "metadata": {},
     "output_type": "execute_result"
    }
   ],
   "source": [
    "# evaluate - high squared difference in reconstruction by col\n",
    "pd.Series((diff ** 2).sum(axis=0), index=cols).abs().sort_values(ascending=False).head(10)"
   ]
  },
  {
   "cell_type": "code",
   "execution_count": 58,
   "metadata": {},
   "outputs": [
    {
     "data": {
      "text/plain": [
       "education_ Assoc-acdm            18842.593811\n",
       "native-country_ Portugal         18630.602014\n",
       "native-country_ England          18586.711327\n",
       "education_ 5th-6th               18481.223456\n",
       "native-country_ Scotland         18403.580286\n",
       "native-country_ United-States    18045.877680\n",
       "native-country_ Hong             17640.187368\n",
       "native-country_ Guatemala        16980.083288\n",
       "education_ Bachelors             16411.728183\n",
       "race_ Black                      16038.457319\n",
       "dtype: float64"
      ]
     },
     "execution_count": 58,
     "metadata": {},
     "output_type": "execute_result"
    }
   ],
   "source": [
    "# evaluate - low squared difference in reconstruction by col\n",
    "pd.Series((diff ** 2).sum(axis=0), index=cols).abs().sort_values(ascending=False).tail(10)"
   ]
  },
  {
   "cell_type": "markdown",
   "metadata": {},
   "source": [
    "#### random forest - census"
   ]
  },
  {
   "cell_type": "code",
   "execution_count": 59,
   "metadata": {},
   "outputs": [],
   "source": [
    "X = X_census_train.copy()\n",
    "y = y_census_train.copy()\n",
    "X_val = X_census_test.copy()\n",
    "y_val = y_census_test.copy()\n",
    "cols = X_census.columns\n",
    "model = RandomForestClassifier\n",
    "params = {'max_depth': 5, 'random_state': 4200}\n",
    "idx += 1\n",
    "method = 'random forest'"
   ]
  },
  {
   "cell_type": "code",
   "execution_count": 60,
   "metadata": {},
   "outputs": [],
   "source": [
    "results.loc[idx, 'method'] = method"
   ]
  },
  {
   "cell_type": "code",
   "execution_count": 61,
   "metadata": {
    "scrolled": true
   },
   "outputs": [],
   "source": [
    "# generate data\n",
    "model_orig = model(100, **params)\n",
    "X_rf = model_orig.fit(X, y)"
   ]
  },
  {
   "cell_type": "code",
   "execution_count": 62,
   "metadata": {},
   "outputs": [
    {
     "data": {
      "image/png": "[encoded data removed]",
      "text/plain": [
       "<Figure size 360x216 with 1 Axes>"
      ]
     },
     "metadata": {
      "needs_background": "light"
     },
     "output_type": "display_data"
    }
   ],
   "source": [
    "# choose k - feature importance\n",
    "scores = {}\n",
    "for k, v in enumerate(sorted(model_orig.feature_importances_, reverse=True)):\n",
    "    scores[k] = v\n",
    "choose_k_results['census_' + method] = scores\n",
    "elbow_plot(scores, 'Feature Importance')"
   ]
  },
  {
   "cell_type": "code",
   "execution_count": 63,
   "metadata": {},
   "outputs": [],
   "source": [
    "# choose k\n",
    "k = 4\n",
    "alt_k = 20\n",
    "results.loc[idx, 'k'] = k\n",
    "sorted_cols = sorted(zip(range(len(cols)), model_orig.feature_importances_), key=lambda x: x[1], reverse=True)\n",
    "k_cols = [i for i, _ in sorted_cols[:k]]\n",
    "alt_k_cols = [i for i, _ in sorted_cols[:alt_k]]"
   ]
  },
  {
   "cell_type": "code",
   "execution_count": 64,
   "metadata": {},
   "outputs": [
    {
     "data": {
      "text/plain": [
       "(0.8479963150621833, 0.846307385229541)"
      ]
     },
     "execution_count": 64,
     "metadata": {},
     "output_type": "execute_result"
    }
   ],
   "source": [
    "# evaluate - model validation\n",
    "model_lim = model(100, **params)\n",
    "model_lim.fit(X[:, k_cols], y)\n",
    "model_lim.score(X_val[:, k_cols], y_val), model_orig.score(X_val, y_val)"
   ]
  },
  {
   "cell_type": "code",
   "execution_count": 65,
   "metadata": {},
   "outputs": [
    {
     "data": {
      "text/plain": [
       "0.8509135575003839"
      ]
     },
     "execution_count": 65,
     "metadata": {},
     "output_type": "execute_result"
    }
   ],
   "source": [
    "model_alt_lim = model(X.shape[1], **params)\n",
    "model_alt_lim.fit(X[:, alt_k_cols], y)\n",
    "model_alt_lim.score(X_val[:, alt_k_cols], y_val)"
   ]
  },
  {
   "cell_type": "code",
   "execution_count": 66,
   "metadata": {},
   "outputs": [
    {
     "data": {
      "text/plain": [
       "(7.940908063905215, 1581.331084877547)"
      ]
     },
     "execution_count": 66,
     "metadata": {},
     "output_type": "execute_result"
    }
   ],
   "source": [
    "# evaluate - reconstruction error\n",
    "X_lim = np.zeros(X.shape)\n",
    "X_lim[:, k_cols] = X[:, k_cols]\n",
    "diff = X_lim - X\n",
    "avg_data_error = ((diff ** 2).sum(axis=1) ** .5).mean()\n",
    "reconstruction_error = (diff ** 2).sum() ** .5\n",
    "results.loc[idx, 'avg_data_dist_error'] = avg_data_error\n",
    "results.loc[idx, 'reconstruction_error'] = reconstruction_error\n",
    "avg_data_error, reconstruction_error"
   ]
  },
  {
   "cell_type": "code",
   "execution_count": 67,
   "metadata": {},
   "outputs": [
    {
     "data": {
      "text/plain": [
       "(6.497063577668731, 1443.5511767859148)"
      ]
     },
     "execution_count": 67,
     "metadata": {},
     "output_type": "execute_result"
    }
   ],
   "source": [
    "X_alt_lim = np.zeros(X.shape)\n",
    "X_alt_lim[:, alt_k_cols] = X[:, alt_k_cols]\n",
    "alt_diff = X_alt_lim - X\n",
    "avg_data_error = ((alt_diff ** 2).sum(axis=1) ** .5).mean()\n",
    "reconstruction_error = (alt_diff ** 2).sum() ** .5\n",
    "avg_data_error, reconstruction_error"
   ]
  },
  {
   "cell_type": "code",
   "execution_count": 68,
   "metadata": {},
   "outputs": [
    {
     "data": {
      "text/html": [
       "<div>\n",
       "<style scoped>\n",
       "    .dataframe tbody tr th:only-of-type {\n",
       "        vertical-align: middle;\n",
       "    }\n",
       "\n",
       "    .dataframe tbody tr th {\n",
       "        vertical-align: top;\n",
       "    }\n",
       "\n",
       "    .dataframe thead th {\n",
       "        text-align: right;\n",
       "    }\n",
       "</style>\n",
       "<table border=\"1\" class=\"dataframe\">\n",
       "  <thead>\n",
       "    <tr style=\"text-align: right;\">\n",
       "      <th></th>\n",
       "      <th>orig_weight</th>\n",
       "      <th>lim_weight</th>\n",
       "    </tr>\n",
       "  </thead>\n",
       "  <tbody>\n",
       "    <tr>\n",
       "      <th>marital-status_ Married-civ-spouse</th>\n",
       "      <td>0.226520</td>\n",
       "      <td>0.409038</td>\n",
       "    </tr>\n",
       "    <tr>\n",
       "      <th>capital-gain</th>\n",
       "      <td>0.145622</td>\n",
       "      <td>0.289624</td>\n",
       "    </tr>\n",
       "    <tr>\n",
       "      <th>education-num</th>\n",
       "      <td>0.114690</td>\n",
       "      <td>0.256694</td>\n",
       "    </tr>\n",
       "    <tr>\n",
       "      <th>marital-status_ Never-married</th>\n",
       "      <td>0.095287</td>\n",
       "      <td>0.044644</td>\n",
       "    </tr>\n",
       "  </tbody>\n",
       "</table>\n",
       "</div>"
      ],
      "text/plain": [
       "                                    orig_weight  lim_weight\n",
       "marital-status_ Married-civ-spouse     0.226520    0.409038\n",
       "capital-gain                           0.145622    0.289624\n",
       "education-num                          0.114690    0.256694\n",
       "marital-status_ Never-married          0.095287    0.044644"
      ]
     },
     "execution_count": 68,
     "metadata": {},
     "output_type": "execute_result"
    }
   ],
   "source": [
    "# evaluate - high weighted cols\n",
    "pd.DataFrame(\n",
    "    [model_orig.feature_importances_[k_cols], model_lim.feature_importances_],\n",
    "    columns=cols[k_cols],\n",
    "    index=['orig_weight', 'lim_weight']\n",
    ").T"
   ]
  },
  {
   "cell_type": "markdown",
   "metadata": {},
   "source": [
    "#### save results"
   ]
  },
  {
   "cell_type": "code",
   "execution_count": 69,
   "metadata": {},
   "outputs": [],
   "source": [
    "results.to_csv('./results/dr_census.csv', index=False)"
   ]
  },
  {
   "cell_type": "markdown",
   "metadata": {},
   "source": [
    "#### prep results"
   ]
  },
  {
   "cell_type": "code",
   "execution_count": 70,
   "metadata": {},
   "outputs": [],
   "source": [
    "results = pd.DataFrame(index=range(4), columns=['method', 'k', 'reconstruction_error', 'avg_data_dist_error'])\n",
    "idx = -1"
   ]
  },
  {
   "cell_type": "markdown",
   "metadata": {},
   "source": [
    "#### PCA - spam"
   ]
  },
  {
   "cell_type": "code",
   "execution_count": 71,
   "metadata": {},
   "outputs": [],
   "source": [
    "X = X_spam_train.copy()\n",
    "y = y_spam_train.copy()\n",
    "X_val = X_spam_test.copy()\n",
    "cols = spam_cols\n",
    "model = PCA\n",
    "idx += 1\n",
    "method = 'pca'"
   ]
  },
  {
   "cell_type": "code",
   "execution_count": 72,
   "metadata": {},
   "outputs": [],
   "source": [
    "results.loc[idx, 'method'] = method"
   ]
  },
  {
   "cell_type": "code",
   "execution_count": 73,
   "metadata": {},
   "outputs": [],
   "source": [
    "# generate data\n",
    "model_orig = model(random_state=4200)\n",
    "X_pca = model_orig.fit_transform(X)"
   ]
  },
  {
   "cell_type": "code",
   "execution_count": 74,
   "metadata": {},
   "outputs": [
    {
     "data": {
      "image/png": "[encoded data removed]",
      "text/plain": [
       "<Figure size 360x216 with 1 Axes>"
      ]
     },
     "metadata": {
      "needs_background": "light"
     },
     "output_type": "display_data"
    }
   ],
   "source": [
    "# choose k - explained variance\n",
    "scores = {k: v for k, v in enumerate(model_orig.explained_variance_ratio_)}\n",
    "choose_k_results['spam_' + method] = scores\n",
    "elbow_plot(scores, 'Explained Variance')"
   ]
  },
  {
   "cell_type": "code",
   "execution_count": 75,
   "metadata": {},
   "outputs": [
    {
     "data": {
      "image/png": "[encoded data removed]",
      "text/plain": [
       "<Figure size 360x216 with 1 Axes>"
      ]
     },
     "metadata": {
      "needs_background": "light"
     },
     "output_type": "display_data"
    }
   ],
   "source": [
    "# choose k - cumulative explained variance\n",
    "scores = {k: v for k, v in enumerate(model_orig.explained_variance_ratio_.cumsum())}\n",
    "elbow_plot(scores, 'Explained Variance')"
   ]
  },
  {
   "cell_type": "code",
   "execution_count": 76,
   "metadata": {},
   "outputs": [],
   "source": [
    "# choose k\n",
    "k = 2\n",
    "alt_k = 10\n",
    "results.loc[idx, 'k'] = k"
   ]
  },
  {
   "cell_type": "code",
   "execution_count": 77,
   "metadata": {},
   "outputs": [
    {
     "data": {
      "text/plain": [
       "(5.471869911436992, 415.8488117557937)"
      ]
     },
     "execution_count": 77,
     "metadata": {},
     "output_type": "execute_result"
    }
   ],
   "source": [
    "# evaluate - reconstruction error\n",
    "model_lim = model(k, random_state=4200)\n",
    "X_lim_pca = model_lim.fit_transform(X)\n",
    "X_lim = model_lim.inverse_transform(X_lim_pca)\n",
    "diff = X_lim - X\n",
    "avg_data_error = ((diff ** 2).sum(axis=1) ** .5).mean()\n",
    "reconstruction_error = (diff ** 2).sum() ** .5\n",
    "results.loc[idx, 'avg_data_dist_error'] = avg_data_error\n",
    "results.loc[idx, 'reconstruction_error'] = reconstruction_error\n",
    "avg_data_error, reconstruction_error"
   ]
  },
  {
   "cell_type": "code",
   "execution_count": 78,
   "metadata": {},
   "outputs": [
    {
     "data": {
      "text/plain": [
       "(4.728456835325276, 359.3657695240089)"
      ]
     },
     "execution_count": 78,
     "metadata": {},
     "output_type": "execute_result"
    }
   ],
   "source": [
    "model_alt_lim = model(alt_k, random_state=4200)\n",
    "X_alt_lim_pca = model_alt_lim.fit_transform(X)\n",
    "X_alt_lim = model_alt_lim.inverse_transform(X_alt_lim_pca)\n",
    "alt_diff = X_alt_lim - X\n",
    "avg_data_error = ((alt_diff ** 2).sum(axis=1) ** .5).mean()\n",
    "reconstruction_error = (alt_diff ** 2).sum() ** .5\n",
    "avg_data_error, reconstruction_error"
   ]
  },
  {
   "cell_type": "code",
   "execution_count": 79,
   "metadata": {},
   "outputs": [
    {
     "data": {
      "text/plain": [
       "word_freq_direct        0.460174\n",
       "word_freq_415           0.459442\n",
       "word_freq_857           0.458985\n",
       "word_freq_telnet        0.400963\n",
       "word_freq_technology    0.389064\n",
       "word_freq_labs          0.375077\n",
       "word_freq_your          0.360367\n",
       "word_freq_85            0.311987\n",
       "word_freq_650           0.310454\n",
       "word_freq_000           0.293888\n",
       "dtype: float64"
      ]
     },
     "execution_count": 79,
     "metadata": {},
     "output_type": "execute_result"
    }
   ],
   "source": [
    "# evaluate - high weighted cols\n",
    "pd.Series(abs(model_lim.components_).sum(axis=0), index=cols).sort_values(ascending=False).head(10)"
   ]
  },
  {
   "cell_type": "code",
   "execution_count": 80,
   "metadata": {},
   "outputs": [
    {
     "data": {
      "text/plain": [
       "word_freq_project       0.075442\n",
       "char_freq_[             0.062455\n",
       "word_freq_conference    0.055631\n",
       "char_freq_;             0.046296\n",
       "char_freq_#             0.034497\n",
       "word_freq_address       0.028124\n",
       "word_freq_3d            0.022661\n",
       "word_freq_font          0.020074\n",
       "word_freq_parts         0.018705\n",
       "word_freq_table         0.018301\n",
       "dtype: float64"
      ]
     },
     "execution_count": 80,
     "metadata": {},
     "output_type": "execute_result"
    }
   ],
   "source": [
    "# evaluate - low weighted cols\n",
    "pd.Series(abs(model_lim.components_).sum(axis=0), index=cols).sort_values(ascending=False).tail(10)"
   ]
  },
  {
   "cell_type": "code",
   "execution_count": 81,
   "metadata": {},
   "outputs": [
    {
     "data": {
      "text/plain": [
       "word_freq_650                 4.225836\n",
       "word_freq_3d                  4.120647\n",
       "capital_run_length_longest    4.018889\n",
       "word_freq_conference          3.948002\n",
       "word_freq_415                 3.383362\n",
       "word_freq_direct              3.382132\n",
       "word_freq_857                 3.378037\n",
       "word_freq_telnet              3.207325\n",
       "word_freq_technology          3.185751\n",
       "word_freq_labs                3.014650\n",
       "dtype: float64"
      ]
     },
     "execution_count": 81,
     "metadata": {},
     "output_type": "execute_result"
    }
   ],
   "source": [
    "# evaluate - low difference in weighted cols\n",
    "(\n",
    "    pd.Series(abs(model_lim.components_).sum(axis=0), index=cols) -\n",
    "    pd.Series(abs(model_orig.components_).sum(axis=0), index=cols)\n",
    ").abs().sort_values(ascending=False).tail(10)"
   ]
  },
  {
   "cell_type": "code",
   "execution_count": 82,
   "metadata": {},
   "outputs": [
    {
     "data": {
      "text/plain": [
       "word_freq_george              5.738857\n",
       "capital_run_length_average    5.722101\n",
       "word_freq_all                 5.674405\n",
       "word_freq_email               5.622509\n",
       "word_freq_over                5.618867\n",
       "word_freq_money               5.599732\n",
       "word_freq_re                  5.592392\n",
       "word_freq_remove              5.531506\n",
       "word_freq_parts               5.493146\n",
       "word_freq_receive             5.491491\n",
       "dtype: float64"
      ]
     },
     "execution_count": 82,
     "metadata": {},
     "output_type": "execute_result"
    }
   ],
   "source": [
    "# evaluate - high difference in weighted cols\n",
    "(\n",
    "    pd.Series(abs(model_lim.components_).sum(axis=0), index=cols) -\n",
    "    pd.Series(abs(model_orig.components_).sum(axis=0), index=cols)\n",
    ").abs().sort_values(ascending=False).head(10)"
   ]
  },
  {
   "cell_type": "code",
   "execution_count": 83,
   "metadata": {},
   "outputs": [
    {
     "data": {
      "text/plain": [
       "word_freq_parts         3676.527438\n",
       "word_freq_table         3676.295921\n",
       "word_freq_3d            3675.823364\n",
       "word_freq_font          3674.828034\n",
       "word_freq_address       3673.412040\n",
       "char_freq_#             3667.335523\n",
       "char_freq_;             3655.516781\n",
       "char_freq_[             3647.504882\n",
       "word_freq_conference    3647.438200\n",
       "word_freq_report        3629.655313\n",
       "dtype: float64"
      ]
     },
     "execution_count": 83,
     "metadata": {},
     "output_type": "execute_result"
    }
   ],
   "source": [
    "# evaluate - high squared difference in reconstruction by col\n",
    "pd.Series((diff ** 2).sum(axis=0), index=cols).abs().sort_values(ascending=False).head(10)"
   ]
  },
  {
   "cell_type": "code",
   "execution_count": 84,
   "metadata": {},
   "outputs": [
    {
     "data": {
      "text/plain": [
       "word_freq_hp            2513.673467\n",
       "word_freq_lab           2417.927353\n",
       "word_freq_85            1930.328682\n",
       "word_freq_650           1792.177134\n",
       "word_freq_labs          1237.031698\n",
       "word_freq_telnet        1168.220139\n",
       "word_freq_technology    1129.688628\n",
       "word_freq_direct         856.130613\n",
       "word_freq_415            497.216485\n",
       "word_freq_857            493.627801\n",
       "dtype: float64"
      ]
     },
     "execution_count": 84,
     "metadata": {},
     "output_type": "execute_result"
    }
   ],
   "source": [
    "# evaluate - low squared difference in reconstruction by col\n",
    "pd.Series((diff ** 2).sum(axis=0), index=cols).abs().sort_values(ascending=False).tail(10)"
   ]
  },
  {
   "cell_type": "markdown",
   "metadata": {},
   "source": [
    "#### ICA - spam"
   ]
  },
  {
   "cell_type": "code",
   "execution_count": 85,
   "metadata": {},
   "outputs": [],
   "source": [
    "X = X_spam_train.copy()\n",
    "y = y_spam_train.copy()\n",
    "X_val = X_spam_test.copy()\n",
    "cols = spam_cols\n",
    "model = FastICA\n",
    "idx += 1\n",
    "method = 'ica'"
   ]
  },
  {
   "cell_type": "code",
   "execution_count": 86,
   "metadata": {},
   "outputs": [],
   "source": [
    "results.loc[idx, 'method'] = method"
   ]
  },
  {
   "cell_type": "code",
   "execution_count": 87,
   "metadata": {},
   "outputs": [],
   "source": [
    "# generate data\n",
    "model_orig = model(max_iter=50000, random_state=4200)\n",
    "X_ica = model_orig.fit_transform(X)"
   ]
  },
  {
   "cell_type": "code",
   "execution_count": 88,
   "metadata": {},
   "outputs": [
    {
     "data": {
      "image/png": "[encoded data removed]",
      "text/plain": [
       "<Figure size 360x216 with 1 Axes>"
      ]
     },
     "metadata": {
      "needs_background": "light"
     },
     "output_type": "display_data"
    }
   ],
   "source": [
    "# choose k - kurtosis\n",
    "scores = {}\n",
    "for k in range(1, X_ica.shape[1]+1):\n",
    "    model_lim = model(k, max_iter=50000, random_state=4200)\n",
    "    X_lim_ica = model_lim.fit_transform(X)\n",
    "    scores[k] = abs(kurtosis(X_lim_ica)).mean()\n",
    "choose_k_results['spam_' + method] = scores\n",
    "elbow_plot(scores, 'Kurtosis')"
   ]
  },
  {
   "cell_type": "code",
   "execution_count": 89,
   "metadata": {},
   "outputs": [],
   "source": [
    "# choose k\n",
    "k = 5\n",
    "alt_k = 23\n",
    "results.loc[idx, 'k'] = k"
   ]
  },
  {
   "cell_type": "code",
   "execution_count": 90,
   "metadata": {},
   "outputs": [
    {
     "data": {
      "text/plain": [
       "(5.1757762587459855, 392.3694862564285)"
      ]
     },
     "execution_count": 90,
     "metadata": {},
     "output_type": "execute_result"
    }
   ],
   "source": [
    "# evaluate - reconstruction error\n",
    "model_lim = model(k, random_state=4200)\n",
    "X_lim_ica = model_lim.fit_transform(X)\n",
    "X_lim = model_lim.inverse_transform(X_lim_ica)\n",
    "diff = X_lim - X\n",
    "avg_data_error = ((diff ** 2).sum(axis=1) ** .5).mean()\n",
    "reconstruction_error = (diff ** 2).sum() ** .5\n",
    "results.loc[idx, 'avg_data_dist_error'] = avg_data_error\n",
    "results.loc[idx, 'reconstruction_error'] = reconstruction_error\n",
    "avg_data_error, reconstruction_error"
   ]
  },
  {
   "cell_type": "code",
   "execution_count": 91,
   "metadata": {},
   "outputs": [
    {
     "data": {
      "text/plain": [
       "(3.7801568193255384, 279.2114488199049)"
      ]
     },
     "execution_count": 91,
     "metadata": {},
     "output_type": "execute_result"
    }
   ],
   "source": [
    "model_alt_lim = model(alt_k, random_state=4200)\n",
    "X_alt_lim_ica = model_alt_lim.fit_transform(X)\n",
    "X_alt_lim = model_alt_lim.inverse_transform(X_alt_lim_ica)\n",
    "alt_diff = X_alt_lim - X\n",
    "avg_data_error = ((alt_diff ** 2).sum(axis=1) ** .5).mean()\n",
    "reconstruction_error = (alt_diff ** 2).sum() ** .5\n",
    "avg_data_error, reconstruction_error"
   ]
  },
  {
   "cell_type": "code",
   "execution_count": 125,
   "metadata": {
    "scrolled": true
   },
   "outputs": [
    {
     "data": {
      "text/plain": [
       "457.99563316695514"
      ]
     },
     "execution_count": 125,
     "metadata": {},
     "output_type": "execute_result"
    }
   ],
   "source": [
    "np.linalg.norm(X)"
   ]
  },
  {
   "cell_type": "code",
   "execution_count": 93,
   "metadata": {},
   "outputs": [
    {
     "data": {
      "text/plain": [
       "word_freq_font                0.010872\n",
       "char_freq_;                   0.009072\n",
       "word_freq_1999                0.008839\n",
       "word_freq_meeting             0.008336\n",
       "word_freq_original            0.007806\n",
       "word_freq_you                 0.007633\n",
       "word_freq_will                0.007632\n",
       "capital_run_length_longest    0.007616\n",
       "word_freq_addresses           0.006756\n",
       "word_freq_our                 0.006685\n",
       "dtype: float64"
      ]
     },
     "execution_count": 93,
     "metadata": {},
     "output_type": "execute_result"
    }
   ],
   "source": [
    "# evaluate - high weighted cols\n",
    "pd.Series(abs(model_lim.components_).sum(axis=0), index=cols).sort_values(ascending=False).head(10)"
   ]
  },
  {
   "cell_type": "code",
   "execution_count": 94,
   "metadata": {},
   "outputs": [
    {
     "data": {
      "text/plain": [
       "char_freq_[             0.002756\n",
       "word_freq_650           0.002483\n",
       "word_freq_85            0.002460\n",
       "word_freq_all           0.002366\n",
       "word_freq_project       0.002243\n",
       "word_freq_address       0.002160\n",
       "word_freq_report        0.002108\n",
       "word_freq_table         0.001925\n",
       "word_freq_conference    0.001605\n",
       "word_freq_3d            0.001558\n",
       "dtype: float64"
      ]
     },
     "execution_count": 94,
     "metadata": {},
     "output_type": "execute_result"
    }
   ],
   "source": [
    "# evaluate - low weighted cols\n",
    "pd.Series(abs(model_lim.components_).sum(axis=0), index=cols).sort_values(ascending=False).tail(10)"
   ]
  },
  {
   "cell_type": "code",
   "execution_count": 95,
   "metadata": {},
   "outputs": [
    {
     "data": {
      "text/plain": [
       "char_freq_!             0.023039\n",
       "word_freq_3d            0.022949\n",
       "word_freq_table         0.022484\n",
       "word_freq_our           0.022243\n",
       "word_freq_will          0.022001\n",
       "word_freq_mail          0.021962\n",
       "word_freq_conference    0.021931\n",
       "word_freq_free          0.021572\n",
       "char_freq_[             0.020755\n",
       "char_freq_#             0.019187\n",
       "dtype: float64"
      ]
     },
     "execution_count": 95,
     "metadata": {},
     "output_type": "execute_result"
    }
   ],
   "source": [
    "# evaluate - low difference in weighted cols\n",
    "(\n",
    "    pd.Series(abs(model_lim.components_).sum(axis=0), index=cols) -\n",
    "    pd.Series(abs(model_orig.components_).sum(axis=0), index=cols)\n",
    ").abs().sort_values(ascending=False).tail(10)"
   ]
  },
  {
   "cell_type": "code",
   "execution_count": 96,
   "metadata": {},
   "outputs": [
    {
     "data": {
      "text/plain": [
       "word_freq_857                 0.427701\n",
       "word_freq_415                 0.361198\n",
       "word_freq_direct              0.060783\n",
       "word_freq_technology          0.052906\n",
       "word_freq_labs                0.051841\n",
       "word_freq_telnet              0.050666\n",
       "capital_run_length_longest    0.050050\n",
       "word_freq_addresses           0.046077\n",
       "word_freq_650                 0.045689\n",
       "capital_run_length_total      0.038619\n",
       "dtype: float64"
      ]
     },
     "execution_count": 96,
     "metadata": {},
     "output_type": "execute_result"
    }
   ],
   "source": [
    "# evaluate - high difference in weighted cols\n",
    "(\n",
    "    pd.Series(abs(model_lim.components_).sum(axis=0), index=cols) -\n",
    "    pd.Series(abs(model_orig.components_).sum(axis=0), index=cols)\n",
    ").abs().sort_values(ascending=False).head(10)"
   ]
  },
  {
   "cell_type": "code",
   "execution_count": 97,
   "metadata": {},
   "outputs": [
    {
     "data": {
      "text/plain": [
       "word_freq_3d            3653.797715\n",
       "word_freq_table         3644.033039\n",
       "word_freq_conference    3630.889652\n",
       "word_freq_address       3625.650073\n",
       "word_freq_report        3582.155903\n",
       "word_freq_project       3563.247396\n",
       "word_freq_data          3523.347774\n",
       "char_freq_[             3499.838102\n",
       "char_freq_!             3423.800796\n",
       "char_freq_#             3417.171708\n",
       "dtype: float64"
      ]
     },
     "execution_count": 97,
     "metadata": {},
     "output_type": "execute_result"
    }
   ],
   "source": [
    "# evaluate - high squared difference in reconstruction by col\n",
    "pd.Series((diff ** 2).sum(axis=0), index=cols).abs().sort_values(ascending=False).head(10)"
   ]
  },
  {
   "cell_type": "code",
   "execution_count": 98,
   "metadata": {},
   "outputs": [
    {
     "data": {
      "text/plain": [
       "word_freq_85                  1915.152211\n",
       "capital_run_length_total      1913.474423\n",
       "word_freq_650                 1785.675761\n",
       "word_freq_labs                1213.009243\n",
       "capital_run_length_longest    1193.562772\n",
       "word_freq_telnet              1130.439671\n",
       "word_freq_technology          1114.097761\n",
       "word_freq_direct               808.464787\n",
       "word_freq_415                  452.513920\n",
       "word_freq_857                  446.187014\n",
       "dtype: float64"
      ]
     },
     "execution_count": 98,
     "metadata": {},
     "output_type": "execute_result"
    }
   ],
   "source": [
    "# evaluate - low squared difference in reconstruction by col\n",
    "pd.Series((diff ** 2).sum(axis=0), index=cols).abs().sort_values(ascending=False).tail(10)"
   ]
  },
  {
   "cell_type": "markdown",
   "metadata": {},
   "source": [
    "#### random projections - spam"
   ]
  },
  {
   "cell_type": "code",
   "execution_count": 99,
   "metadata": {},
   "outputs": [],
   "source": [
    "X = X_spam_train.copy()\n",
    "y = y_spam_train.copy()\n",
    "X_val = X_spam_test.copy()\n",
    "cols = spam_cols\n",
    "model = GaussianRandomProjection\n",
    "idx += 1\n",
    "method = 'random projections'"
   ]
  },
  {
   "cell_type": "code",
   "execution_count": 100,
   "metadata": {},
   "outputs": [],
   "source": [
    "results.loc[idx, 'method'] = method"
   ]
  },
  {
   "cell_type": "code",
   "execution_count": 101,
   "metadata": {
    "scrolled": true
   },
   "outputs": [],
   "source": [
    "# generate data\n",
    "model_orig = model(X.shape[1], random_state=4200)\n",
    "X_rp = model_orig.fit_transform(X)"
   ]
  },
  {
   "cell_type": "code",
   "execution_count": 102,
   "metadata": {},
   "outputs": [
    {
     "data": {
      "image/png": "[encoded data removed]",
      "text/plain": [
       "<Figure size 360x216 with 1 Axes>"
      ]
     },
     "metadata": {
      "needs_background": "light"
     },
     "output_type": "display_data"
    }
   ],
   "source": [
    "# choose k - reconstruction errora\n",
    "scores = {}\n",
    "for k in range(1, X.shape[1]+1):\n",
    "    W = model_orig.components_[:k].T\n",
    "    X_rp_k = X.dot(W)\n",
    "    W_inv = np.linalg.inv(W.T.dot(W)).dot(W.T)\n",
    "    X_lim = X_rp_k.dot(W_inv)\n",
    "    error = ((X_lim - X) ** 2).sum() ** .5\n",
    "    scores[k] = error\n",
    "choose_k_results['spam_' + method] = scores\n",
    "elbow_plot(scores, 'Reconstruction Error')"
   ]
  },
  {
   "cell_type": "code",
   "execution_count": 103,
   "metadata": {},
   "outputs": [],
   "source": [
    "# choose k\n",
    "k = 10\n",
    "alt_k = 20\n",
    "results.loc[idx, 'k'] = k"
   ]
  },
  {
   "cell_type": "code",
   "execution_count": 104,
   "metadata": {},
   "outputs": [
    {
     "data": {
      "text/plain": [
       "(5.35376927955234, 408.7770370347576)"
      ]
     },
     "execution_count": 104,
     "metadata": {},
     "output_type": "execute_result"
    }
   ],
   "source": [
    "# evaluate - reconstruction error\n",
    "model_lim = model(k, random_state=4200)\n",
    "X_lim_rp = model_lim.fit_transform(X)\n",
    "W_lim = model_lim.components_.T\n",
    "W_lim_inv = np.linalg.inv(W_lim.T.dot(W_lim)).dot(W_lim.T)\n",
    "X_lim = X_lim_rp.dot(W_lim_inv)\n",
    "diff = X_lim - X\n",
    "avg_data_error = ((diff ** 2).sum(axis=1) ** .5).mean()\n",
    "reconstruction_error = (diff ** 2).sum() ** .5\n",
    "results.loc[idx, 'avg_data_dist_error'] = avg_data_error\n",
    "results.loc[idx, 'reconstruction_error'] = reconstruction_error\n",
    "avg_data_error, reconstruction_error"
   ]
  },
  {
   "cell_type": "code",
   "execution_count": 105,
   "metadata": {},
   "outputs": [
    {
     "data": {
      "text/plain": [
       "(4.7748513153425725, 366.72709851156594)"
      ]
     },
     "execution_count": 105,
     "metadata": {},
     "output_type": "execute_result"
    }
   ],
   "source": [
    "model_alt_lim = model(alt_k, random_state=4200)\n",
    "X_alt_lim_rp = model_alt_lim.fit_transform(X)\n",
    "W_alt_lim = model_alt_lim.components_.T\n",
    "W_alt_lim_inv = np.linalg.inv(W_alt_lim.T.dot(W_alt_lim)).dot(W_alt_lim.T)\n",
    "X_alt_lim = X_alt_lim_rp.dot(W_alt_lim_inv)\n",
    "alt_diff = X_alt_lim - X\n",
    "avg_data_error = ((alt_diff ** 2).sum(axis=1) ** .5).mean()\n",
    "reconstruction_error = (alt_diff ** 2).sum() ** .5\n",
    "avg_data_error, reconstruction_error"
   ]
  },
  {
   "cell_type": "code",
   "execution_count": 106,
   "metadata": {},
   "outputs": [
    {
     "data": {
      "text/plain": [
       "word_freq_business    3.589576\n",
       "word_freq_internet    3.566498\n",
       "word_freq_make        3.558950\n",
       "word_freq_cs          3.314727\n",
       "word_freq_direct      3.193185\n",
       "word_freq_your        3.168517\n",
       "word_freq_address     3.062305\n",
       "word_freq_will        3.017058\n",
       "word_freq_1999        2.982692\n",
       "word_freq_remove      2.941384\n",
       "dtype: float64"
      ]
     },
     "execution_count": 106,
     "metadata": {},
     "output_type": "execute_result"
    }
   ],
   "source": [
    "# evaluate - high weighted cols\n",
    "pd.Series(abs(model_lim.components_).sum(axis=0), index=cols).sort_values(ascending=False).head(10)"
   ]
  },
  {
   "cell_type": "code",
   "execution_count": 107,
   "metadata": {},
   "outputs": [
    {
     "data": {
      "text/plain": [
       "word_freq_650        1.797847\n",
       "word_freq_hp         1.792771\n",
       "word_freq_credit     1.758101\n",
       "word_freq_project    1.727082\n",
       "word_freq_people     1.524159\n",
       "word_freq_all        1.474994\n",
       "word_freq_email      1.469309\n",
       "word_freq_415        1.405697\n",
       "word_freq_pm         1.333211\n",
       "word_freq_receive    1.318263\n",
       "dtype: float64"
      ]
     },
     "execution_count": 107,
     "metadata": {},
     "output_type": "execute_result"
    }
   ],
   "source": [
    "# evaluate - low weighted cols\n",
    "pd.Series(abs(model_lim.components_).sum(axis=0), index=cols).sort_values(ascending=False).tail(10)"
   ]
  },
  {
   "cell_type": "code",
   "execution_count": 108,
   "metadata": {},
   "outputs": [
    {
     "data": {
      "text/plain": [
       "capital_run_length_total    2.841036\n",
       "word_freq_parts             2.777776\n",
       "word_freq_over              2.735371\n",
       "word_freq_your              2.694007\n",
       "word_freq_labs              2.662687\n",
       "word_freq_make              2.605495\n",
       "word_freq_will              2.466399\n",
       "word_freq_business          2.425482\n",
       "word_freq_addresses         2.154339\n",
       "word_freq_1999              2.041209\n",
       "dtype: float64"
      ]
     },
     "execution_count": 108,
     "metadata": {},
     "output_type": "execute_result"
    }
   ],
   "source": [
    "# evaluate - low difference in weighted cols\n",
    "(\n",
    "    pd.Series(abs(model_lim.components_).sum(axis=0), index=cols) -\n",
    "    pd.Series(abs(model_orig.components_).sum(axis=0), index=cols)\n",
    ").abs().sort_values(ascending=False).tail(10)"
   ]
  },
  {
   "cell_type": "code",
   "execution_count": 109,
   "metadata": {},
   "outputs": [
    {
     "data": {
      "text/plain": [
       "word_freq_cs            4.593568\n",
       "word_freq_receive       4.575053\n",
       "word_freq_people        4.563212\n",
       "word_freq_mail          4.470700\n",
       "word_freq_order         4.395231\n",
       "word_freq_all           4.361527\n",
       "word_freq_pm            4.350503\n",
       "word_freq_email         4.306530\n",
       "word_freq_report        4.256655\n",
       "word_freq_technology    4.206925\n",
       "dtype: float64"
      ]
     },
     "execution_count": 109,
     "metadata": {},
     "output_type": "execute_result"
    }
   ],
   "source": [
    "# evaluate - high difference in weighted cols\n",
    "(\n",
    "    pd.Series(abs(model_lim.components_).sum(axis=0), index=cols) -\n",
    "    pd.Series(abs(model_orig.components_).sum(axis=0), index=cols)\n",
    ").abs().sort_values(ascending=False).head(10)"
   ]
  },
  {
   "cell_type": "code",
   "execution_count": 110,
   "metadata": {},
   "outputs": [
    {
     "data": {
      "text/plain": [
       "word_freq_415                 3590.270818\n",
       "word_freq_credit              3580.820626\n",
       "word_freq_table               3574.988882\n",
       "word_freq_people              3567.167505\n",
       "capital_run_length_total      3520.507204\n",
       "word_freq_all                 3423.175179\n",
       "word_freq_pm                  3392.881005\n",
       "word_freq_edu                 3379.290456\n",
       "word_freq_email               3374.707203\n",
       "capital_run_length_longest    3339.734907\n",
       "dtype: float64"
      ]
     },
     "execution_count": 110,
     "metadata": {},
     "output_type": "execute_result"
    }
   ],
   "source": [
    "# evaluate - high squared difference in reconstruction by col\n",
    "pd.Series((diff ** 2).sum(axis=0), index=cols).abs().sort_values(ascending=False).head(10)"
   ]
  },
  {
   "cell_type": "code",
   "execution_count": 111,
   "metadata": {},
   "outputs": [
    {
     "data": {
      "text/plain": [
       "word_freq_you           2573.594729\n",
       "word_freq_remove        2537.129881\n",
       "word_freq_85            2532.876550\n",
       "word_freq_cs            2370.356487\n",
       "word_freq_1999          2241.045455\n",
       "word_freq_your          2199.807596\n",
       "word_freq_direct        2065.065647\n",
       "word_freq_hpl           2015.025732\n",
       "word_freq_857           1959.061079\n",
       "word_freq_technology    1816.469160\n",
       "dtype: float64"
      ]
     },
     "execution_count": 111,
     "metadata": {},
     "output_type": "execute_result"
    }
   ],
   "source": [
    "# evaluate - low squared difference in reconstruction by col\n",
    "pd.Series((diff ** 2).sum(axis=0), index=cols).abs().sort_values(ascending=False).tail(10)"
   ]
  },
  {
   "cell_type": "markdown",
   "metadata": {},
   "source": [
    "#### random forest - spam"
   ]
  },
  {
   "cell_type": "code",
   "execution_count": 112,
   "metadata": {},
   "outputs": [],
   "source": [
    "X = X_spam_train.copy()\n",
    "y = y_spam_train.copy()\n",
    "X_val = X_spam_test.copy()\n",
    "y_val = y_spam_test.copy()\n",
    "cols = spam_cols\n",
    "model = RandomForestClassifier\n",
    "params = {'max_depth': 5, 'random_state': 4200}\n",
    "idx += 1\n",
    "method = 'random forest'"
   ]
  },
  {
   "cell_type": "code",
   "execution_count": 113,
   "metadata": {},
   "outputs": [],
   "source": [
    "results.loc[idx, 'method'] = method"
   ]
  },
  {
   "cell_type": "code",
   "execution_count": 114,
   "metadata": {
    "scrolled": true
   },
   "outputs": [],
   "source": [
    "# generate data\n",
    "model_orig = model(100, **params)\n",
    "X_rf = model_orig.fit(X, y)"
   ]
  },
  {
   "cell_type": "code",
   "execution_count": 115,
   "metadata": {},
   "outputs": [
    {
     "data": {
      "image/png": "[encoded data removed]",
      "text/plain": [
       "<Figure size 360x216 with 1 Axes>"
      ]
     },
     "metadata": {
      "needs_background": "light"
     },
     "output_type": "display_data"
    }
   ],
   "source": [
    "# choose k - feature importance\n",
    "scores = {}\n",
    "for k, v in enumerate(sorted(model_orig.feature_importances_, reverse=True)):\n",
    "    scores[k] = v\n",
    "choose_k_results['spam_' + method] = scores\n",
    "elbow_plot(scores, 'Feature Importance')"
   ]
  },
  {
   "cell_type": "code",
   "execution_count": 116,
   "metadata": {},
   "outputs": [],
   "source": [
    "# choose k\n",
    "k = 3\n",
    "alt_k = 10\n",
    "results.loc[idx, 'k'] = k\n",
    "sorted_cols = sorted(zip(range(len(cols)), model_orig.feature_importances_), key=lambda x: x[1], reverse=True)\n",
    "k_cols = [i for i, _ in sorted_cols[:k]]\n",
    "alt_k_cols = [i for i, _ in sorted_cols[:alt_k]]"
   ]
  },
  {
   "cell_type": "code",
   "execution_count": 117,
   "metadata": {},
   "outputs": [
    {
     "data": {
      "text/plain": [
       "(0.8849077090119435, 0.9174809989142236)"
      ]
     },
     "execution_count": 117,
     "metadata": {},
     "output_type": "execute_result"
    }
   ],
   "source": [
    "# evaluate - model validation\n",
    "model_lim = model(100, **params)\n",
    "model_lim.fit(X[:, k_cols], y)\n",
    "model_lim.score(X_val[:, k_cols], y_val), model_orig.score(X_val, y_val)"
   ]
  },
  {
   "cell_type": "code",
   "execution_count": 118,
   "metadata": {},
   "outputs": [
    {
     "data": {
      "text/plain": [
       "0.9077090119435396"
      ]
     },
     "execution_count": 118,
     "metadata": {},
     "output_type": "execute_result"
    }
   ],
   "source": [
    "model_alt_lim = model(X.shape[1], **params)\n",
    "model_alt_lim.fit(X[:, alt_k_cols], y)\n",
    "model_alt_lim.score(X_val[:, alt_k_cols], y_val)"
   ]
  },
  {
   "cell_type": "code",
   "execution_count": 119,
   "metadata": {},
   "outputs": [
    {
     "data": {
      "text/plain": [
       "(5.819585226486397, 445.7802149041611)"
      ]
     },
     "execution_count": 119,
     "metadata": {},
     "output_type": "execute_result"
    }
   ],
   "source": [
    "# evaluate - reconstruction error\n",
    "X_lim = np.zeros(X.shape)\n",
    "X_lim[:, k_cols] = X[:, k_cols]\n",
    "diff = X_lim - X\n",
    "avg_data_error = ((diff ** 2).sum(axis=1) ** .5).mean()\n",
    "reconstruction_error = (diff ** 2).sum() ** .5\n",
    "results.loc[idx, 'avg_data_dist_error'] = avg_data_error\n",
    "results.loc[idx, 'reconstruction_error'] = reconstruction_error\n",
    "avg_data_error, reconstruction_error"
   ]
  },
  {
   "cell_type": "code",
   "execution_count": 120,
   "metadata": {},
   "outputs": [
    {
     "data": {
      "text/plain": [
       "(5.35509758716151, 415.884599378241)"
      ]
     },
     "execution_count": 120,
     "metadata": {},
     "output_type": "execute_result"
    }
   ],
   "source": [
    "X_alt_lim = np.zeros(X.shape)\n",
    "X_alt_lim[:, alt_k_cols] = X[:, alt_k_cols]\n",
    "alt_diff = X_alt_lim - X\n",
    "avg_data_error = ((alt_diff ** 2).sum(axis=1) ** .5).mean()\n",
    "reconstruction_error = (alt_diff ** 2).sum() ** .5\n",
    "avg_data_error, reconstruction_error"
   ]
  },
  {
   "cell_type": "code",
   "execution_count": 121,
   "metadata": {},
   "outputs": [
    {
     "data": {
      "text/html": [
       "<div>\n",
       "<style scoped>\n",
       "    .dataframe tbody tr th:only-of-type {\n",
       "        vertical-align: middle;\n",
       "    }\n",
       "\n",
       "    .dataframe tbody tr th {\n",
       "        vertical-align: top;\n",
       "    }\n",
       "\n",
       "    .dataframe thead th {\n",
       "        text-align: right;\n",
       "    }\n",
       "</style>\n",
       "<table border=\"1\" class=\"dataframe\">\n",
       "  <thead>\n",
       "    <tr style=\"text-align: right;\">\n",
       "      <th></th>\n",
       "      <th>orig_weight</th>\n",
       "      <th>lim_weight</th>\n",
       "    </tr>\n",
       "  </thead>\n",
       "  <tbody>\n",
       "    <tr>\n",
       "      <th>char_freq_$</th>\n",
       "      <td>0.135195</td>\n",
       "      <td>0.378201</td>\n",
       "    </tr>\n",
       "    <tr>\n",
       "      <th>char_freq_!</th>\n",
       "      <td>0.113674</td>\n",
       "      <td>0.364887</td>\n",
       "    </tr>\n",
       "    <tr>\n",
       "      <th>word_freq_remove</th>\n",
       "      <td>0.112421</td>\n",
       "      <td>0.256912</td>\n",
       "    </tr>\n",
       "  </tbody>\n",
       "</table>\n",
       "</div>"
      ],
      "text/plain": [
       "                  orig_weight  lim_weight\n",
       "char_freq_$          0.135195    0.378201\n",
       "char_freq_!          0.113674    0.364887\n",
       "word_freq_remove     0.112421    0.256912"
      ]
     },
     "execution_count": 121,
     "metadata": {},
     "output_type": "execute_result"
    }
   ],
   "source": [
    "# evaluate - high weighted cols\n",
    "pd.DataFrame(\n",
    "    [model_orig.feature_importances_[k_cols], model_lim.feature_importances_],\n",
    "    columns=pd.Index(cols)[k_cols],\n",
    "    index=['orig_weight', 'lim_weight']\n",
    ").T"
   ]
  },
  {
   "cell_type": "markdown",
   "metadata": {},
   "source": [
    "#### save results"
   ]
  },
  {
   "cell_type": "code",
   "execution_count": 122,
   "metadata": {},
   "outputs": [],
   "source": [
    "results.to_csv('./results/dr_spam.csv', index=False)"
   ]
  },
  {
   "cell_type": "code",
   "execution_count": 123,
   "metadata": {},
   "outputs": [],
   "source": [
    "for k, v in choose_k_results.items():\n",
    "    path = f'./results/dr_{k}.csv'\n",
    "    pd.DataFrame(v, index=[0]).T.to_csv(path)"
   ]
  }
 ],
 "metadata": {
  "kernelspec": {
   "display_name": "Python 3",
   "language": "python",
   "name": "python3"
  },
  "language_info": {
   "codemirror_mode": {
    "name": "ipython",
    "version": 3
   },
   "file_extension": ".py",
   "mimetype": "text/x-python",
   "name": "python",
   "nbconvert_exporter": "python",
   "pygments_lexer": "ipython3",
   "version": "3.8.3"
  }
 },
 "nbformat": 4,
 "nbformat_minor": 4
}
